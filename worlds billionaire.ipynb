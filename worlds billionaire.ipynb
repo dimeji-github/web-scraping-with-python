{
 "cells": [
  {
   "cell_type": "markdown",
   "id": "996f405f-ddb0-41c7-b7b9-700507a4b364",
   "metadata": {},
   "source": [
    "## Web Scraping Wikipedia Page for the World's Billionaires 2023"
   ]
  },
  {
   "cell_type": "markdown",
   "id": "53aaa2e1-3700-4614-98a1-73277f0993ea",
   "metadata": {},
   "source": [
    "### Import libraries to use"
   ]
  },
  {
   "cell_type": "code",
   "execution_count": 1,
   "id": "1d79d0b4-55f8-4270-9669-8be92dcef468",
   "metadata": {},
   "outputs": [],
   "source": [
    "from bs4 import BeautifulSoup\n",
    "import requests\n",
    "import pandas as pd"
   ]
  },
  {
   "cell_type": "code",
   "execution_count": 2,
   "id": "26c7be5e-5762-4d4d-a06a-f733b7d64a1c",
   "metadata": {},
   "outputs": [],
   "source": [
    "#the link to the wikipedia page to be scraped\n",
    "\n",
    "url = 'https://en.wikipedia.org/wiki/The_World%27s_Billionaires'"
   ]
  },
  {
   "cell_type": "code",
   "execution_count": 3,
   "id": "b8e7ea8f-a131-46ed-a692-02c05dc839d2",
   "metadata": {},
   "outputs": [],
   "source": [
    "#the site's HTML code is fetched into python script to work with\n",
    "\n",
    "page = requests.get(url)\n",
    "\n",
    "soup = BeautifulSoup(page.content, 'html')"
   ]
  },
  {
   "cell_type": "markdown",
   "id": "aa5c56c7-e263-4aeb-928e-3391d3cb9c89",
   "metadata": {},
   "source": [
    "The table of interest in the web page is the 3rd one, so we will specify it using index to retrieve that particular table"
   ]
  },
  {
   "cell_type": "code",
   "execution_count": 4,
   "id": "18afe56a-7d11-40bd-9698-48118d5decd6",
   "metadata": {
    "tags": []
   },
   "outputs": [],
   "source": [
    "#retrieve the 3rd table from the web page\n",
    "\n",
    "table = soup.find_all('table')[2]"
   ]
  },
  {
   "cell_type": "code",
   "execution_count": 5,
   "id": "4e03013a-d22b-4905-b06d-96adb2dac392",
   "metadata": {},
   "outputs": [],
   "source": [
    "#the header os the table is fetched\n",
    "\n",
    "header = table.find_all('th')"
   ]
  },
  {
   "cell_type": "code",
   "execution_count": 6,
   "id": "ff73e61e-3141-4fc4-9719-2bd0b2a5def5",
   "metadata": {},
   "outputs": [
    {
     "name": "stdout",
     "output_type": "stream",
     "text": [
      "['No.', 'Name', 'Net worth (USD)', 'Age', 'Nationality', 'Primary source(s) of wealth']\n"
     ]
    }
   ],
   "source": [
    "#clean the header to a presentable format\n",
    "\n",
    "headers_title = [headers.text.strip() for headers in header]\n",
    "\n",
    "print(headers_title)"
   ]
  },
  {
   "cell_type": "code",
   "execution_count": 7,
   "id": "b660e126-0f62-4546-8416-8bd14b34c5bd",
   "metadata": {},
   "outputs": [
    {
     "data": {
      "text/html": [
       "<div>\n",
       "<style scoped>\n",
       "    .dataframe tbody tr th:only-of-type {\n",
       "        vertical-align: middle;\n",
       "    }\n",
       "\n",
       "    .dataframe tbody tr th {\n",
       "        vertical-align: top;\n",
       "    }\n",
       "\n",
       "    .dataframe thead th {\n",
       "        text-align: right;\n",
       "    }\n",
       "</style>\n",
       "<table border=\"1\" class=\"dataframe\">\n",
       "  <thead>\n",
       "    <tr style=\"text-align: right;\">\n",
       "      <th></th>\n",
       "      <th>No.</th>\n",
       "      <th>Name</th>\n",
       "      <th>Net worth (USD)</th>\n",
       "      <th>Age</th>\n",
       "      <th>Nationality</th>\n",
       "      <th>Primary source(s) of wealth</th>\n",
       "    </tr>\n",
       "  </thead>\n",
       "  <tbody>\n",
       "  </tbody>\n",
       "</table>\n",
       "</div>"
      ],
      "text/plain": [
       "Empty DataFrame\n",
       "Columns: [No., Name, Net worth (USD), Age, Nationality, Primary source(s) of wealth]\n",
       "Index: []"
      ]
     },
     "execution_count": 7,
     "metadata": {},
     "output_type": "execute_result"
    }
   ],
   "source": [
    "#store the header in a dataframe as column\n",
    "\n",
    "df = pd.DataFrame(columns=headers_title)\n",
    "df"
   ]
  },
  {
   "cell_type": "code",
   "execution_count": 8,
   "id": "bc4e5cdd-a685-4d1a-b3bd-45b554973803",
   "metadata": {},
   "outputs": [],
   "source": [
    "#check for the rows in the table\n",
    "\n",
    "column_data = table.find_all('tr')"
   ]
  },
  {
   "cell_type": "code",
   "execution_count": 9,
   "id": "81c0c56e-d623-4cad-a279-00777b857ccf",
   "metadata": {},
   "outputs": [
    {
     "name": "stdout",
     "output_type": "stream",
     "text": [
      "  No.                      Name Net worth (USD) Age    Nationality  \\\n",
      "0   1  Bernard Arnault & family    $211 billion  74         France   \n",
      "1   2                 Elon Musk    $180 billion  51  United States   \n",
      "2   3                Jeff Bezos    $114 billion  59  United States   \n",
      "3   4             Larry Ellison    $107 billion  78  United States   \n",
      "4   5            Warren Buffett    $106 billion  92  United States   \n",
      "5   6                Bill Gates    $104 billion  67  United States   \n",
      "6   7         Michael Bloomberg   $94.5 billion  81  United States   \n",
      "7   8      Carlos Slim & family     $93 billion  83         Mexico   \n",
      "8   9             Mukesh Ambani   $83.4 billion  65          India   \n",
      "9  10             Steve Ballmer   $80.7 billion  67  United States   \n",
      "\n",
      "          Primary source(s) of wealth  \n",
      "0                                LVMH  \n",
      "1                       Tesla, SpaceX  \n",
      "2                              Amazon  \n",
      "3                  Oracle Corporation  \n",
      "4                  Berkshire Hathaway  \n",
      "5                           Microsoft  \n",
      "6                      Bloomberg L.P.  \n",
      "7  Telmex, América Móvil, Grupo Carso  \n",
      "8                 Reliance Industries  \n",
      "9                           Microsoft  \n"
     ]
    }
   ],
   "source": [
    "all_row_data = []\n",
    "\n",
    "for row in column_data[1:]:\n",
    "    row_data = row.find_all('td')\n",
    "    \n",
    "    #check if the row data contains the expected number of elements\n",
    "    if len(row_data) == len(headers_title):\n",
    "        individual_row_data = [data.text.strip() for data in row_data]\n",
    "        all_row_data.append(individual_row_data)\n",
    "    else:\n",
    "        print(\"Skipping a row due to mismatch in number of elements\")\n",
    "\n",
    "#create a DataFrame using the extracted row data and headers\n",
    "df = pd.DataFrame(all_row_data, columns=headers_title)\n",
    "\n",
    "#display the dataframe\n",
    "print(df)"
   ]
  },
  {
   "cell_type": "code",
   "execution_count": 10,
   "id": "11e5cd5d-cb47-4803-82fa-ad52ca84455b",
   "metadata": {},
   "outputs": [],
   "source": [
    "#extracted data is saved as csv\n",
    "\n",
    "df.to_csv(r\"C:\\Users\\oladi\\Desktop\\Projects\\web scraping\\world billionaires.csv\", index=False)"
   ]
  },
  {
   "cell_type": "code",
   "execution_count": 11,
   "id": "37498abd-45a2-4739-bd4a-331d53e4bf25",
   "metadata": {},
   "outputs": [],
   "source": [
    "df_billionaires = pd.read_csv(\"world billionaires.csv\", index_col=0, header=0)"
   ]
  },
  {
   "cell_type": "code",
   "execution_count": 12,
   "id": "24b10c07-01d6-4949-9709-cf292afc4914",
   "metadata": {},
   "outputs": [
    {
     "name": "stdout",
     "output_type": "stream",
     "text": [
      "-----List of World's Billionaire 2023-----\n"
     ]
    },
    {
     "data": {
      "text/html": [
       "<div>\n",
       "<style scoped>\n",
       "    .dataframe tbody tr th:only-of-type {\n",
       "        vertical-align: middle;\n",
       "    }\n",
       "\n",
       "    .dataframe tbody tr th {\n",
       "        vertical-align: top;\n",
       "    }\n",
       "\n",
       "    .dataframe thead th {\n",
       "        text-align: right;\n",
       "    }\n",
       "</style>\n",
       "<table border=\"1\" class=\"dataframe\">\n",
       "  <thead>\n",
       "    <tr style=\"text-align: right;\">\n",
       "      <th></th>\n",
       "      <th>Name</th>\n",
       "      <th>Net worth (USD)</th>\n",
       "      <th>Age</th>\n",
       "      <th>Nationality</th>\n",
       "      <th>Primary source(s) of wealth</th>\n",
       "    </tr>\n",
       "    <tr>\n",
       "      <th>No.</th>\n",
       "      <th></th>\n",
       "      <th></th>\n",
       "      <th></th>\n",
       "      <th></th>\n",
       "      <th></th>\n",
       "    </tr>\n",
       "  </thead>\n",
       "  <tbody>\n",
       "    <tr>\n",
       "      <th>1</th>\n",
       "      <td>Bernard Arnault &amp; family</td>\n",
       "      <td>$211 billion</td>\n",
       "      <td>74</td>\n",
       "      <td>France</td>\n",
       "      <td>LVMH</td>\n",
       "    </tr>\n",
       "    <tr>\n",
       "      <th>2</th>\n",
       "      <td>Elon Musk</td>\n",
       "      <td>$180 billion</td>\n",
       "      <td>51</td>\n",
       "      <td>United States</td>\n",
       "      <td>Tesla, SpaceX</td>\n",
       "    </tr>\n",
       "    <tr>\n",
       "      <th>3</th>\n",
       "      <td>Jeff Bezos</td>\n",
       "      <td>$114 billion</td>\n",
       "      <td>59</td>\n",
       "      <td>United States</td>\n",
       "      <td>Amazon</td>\n",
       "    </tr>\n",
       "    <tr>\n",
       "      <th>4</th>\n",
       "      <td>Larry Ellison</td>\n",
       "      <td>$107 billion</td>\n",
       "      <td>78</td>\n",
       "      <td>United States</td>\n",
       "      <td>Oracle Corporation</td>\n",
       "    </tr>\n",
       "    <tr>\n",
       "      <th>5</th>\n",
       "      <td>Warren Buffett</td>\n",
       "      <td>$106 billion</td>\n",
       "      <td>92</td>\n",
       "      <td>United States</td>\n",
       "      <td>Berkshire Hathaway</td>\n",
       "    </tr>\n",
       "    <tr>\n",
       "      <th>6</th>\n",
       "      <td>Bill Gates</td>\n",
       "      <td>$104 billion</td>\n",
       "      <td>67</td>\n",
       "      <td>United States</td>\n",
       "      <td>Microsoft</td>\n",
       "    </tr>\n",
       "    <tr>\n",
       "      <th>7</th>\n",
       "      <td>Michael Bloomberg</td>\n",
       "      <td>$94.5 billion</td>\n",
       "      <td>81</td>\n",
       "      <td>United States</td>\n",
       "      <td>Bloomberg L.P.</td>\n",
       "    </tr>\n",
       "    <tr>\n",
       "      <th>8</th>\n",
       "      <td>Carlos Slim &amp; family</td>\n",
       "      <td>$93 billion</td>\n",
       "      <td>83</td>\n",
       "      <td>Mexico</td>\n",
       "      <td>Telmex, América Móvil, Grupo Carso</td>\n",
       "    </tr>\n",
       "    <tr>\n",
       "      <th>9</th>\n",
       "      <td>Mukesh Ambani</td>\n",
       "      <td>$83.4 billion</td>\n",
       "      <td>65</td>\n",
       "      <td>India</td>\n",
       "      <td>Reliance Industries</td>\n",
       "    </tr>\n",
       "    <tr>\n",
       "      <th>10</th>\n",
       "      <td>Steve Ballmer</td>\n",
       "      <td>$80.7 billion</td>\n",
       "      <td>67</td>\n",
       "      <td>United States</td>\n",
       "      <td>Microsoft</td>\n",
       "    </tr>\n",
       "  </tbody>\n",
       "</table>\n",
       "</div>"
      ],
      "text/plain": [
       "                         Name Net worth (USD)  Age    Nationality  \\\n",
       "No.                                                                 \n",
       "1    Bernard Arnault & family    $211 billion   74         France   \n",
       "2                   Elon Musk    $180 billion   51  United States   \n",
       "3                  Jeff Bezos    $114 billion   59  United States   \n",
       "4               Larry Ellison    $107 billion   78  United States   \n",
       "5              Warren Buffett    $106 billion   92  United States   \n",
       "6                  Bill Gates    $104 billion   67  United States   \n",
       "7           Michael Bloomberg   $94.5 billion   81  United States   \n",
       "8        Carlos Slim & family     $93 billion   83         Mexico   \n",
       "9               Mukesh Ambani   $83.4 billion   65          India   \n",
       "10              Steve Ballmer   $80.7 billion   67  United States   \n",
       "\n",
       "            Primary source(s) of wealth  \n",
       "No.                                      \n",
       "1                                  LVMH  \n",
       "2                         Tesla, SpaceX  \n",
       "3                                Amazon  \n",
       "4                    Oracle Corporation  \n",
       "5                    Berkshire Hathaway  \n",
       "6                             Microsoft  \n",
       "7                        Bloomberg L.P.  \n",
       "8    Telmex, América Móvil, Grupo Carso  \n",
       "9                   Reliance Industries  \n",
       "10                            Microsoft  "
      ]
     },
     "metadata": {},
     "output_type": "display_data"
    }
   ],
   "source": [
    "#view the data\n",
    "\n",
    "print(\"-----List of World's Billionaire 2023-----\")\n",
    "display(df_billionaires.head(10))"
   ]
  },
  {
   "cell_type": "markdown",
   "id": "6817fbb2-d4e5-442c-8aaf-17184aeeab08",
   "metadata": {},
   "source": [
    "This constantly evolving list shows the prominent figures on the billionaire list and their primary source of wealth, as well as their nationality. The fact that this list continues to change and grow highlights the ever-changing landscape of wealth creation and the diverse pathways individuals take to attain billionaire status."
   ]
  },
  {
   "cell_type": "code",
   "execution_count": null,
   "id": "ae0e4c8b-c0dc-4c7c-b010-a7bb9caf8eb8",
   "metadata": {},
   "outputs": [],
   "source": []
  }
 ],
 "metadata": {
  "kernelspec": {
   "display_name": "Python 3 (ipykernel)",
   "language": "python",
   "name": "python3"
  },
  "language_info": {
   "codemirror_mode": {
    "name": "ipython",
    "version": 3
   },
   "file_extension": ".py",
   "mimetype": "text/x-python",
   "name": "python",
   "nbconvert_exporter": "python",
   "pygments_lexer": "ipython3",
   "version": "3.9.12"
  }
 },
 "nbformat": 4,
 "nbformat_minor": 5
}
